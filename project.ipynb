{
 "cells": [
  {
   "cell_type": "raw",
   "metadata": {
    "lines_to_next_cell": 0
   },
   "source": [
    "---\n",
    "title: \"HOMEWORK1\"\n",
    "output: \n",
    "  html_document: \n",
    "    df_print: paged\n",
    "---"
   ]
  },
  {
   "cell_type": "markdown",
   "metadata": {
    "lines_to_next_cell": 0
   },
   "source": [
    "## **Ceyhun Onur**\n",
    "\n",
    "## _18/10/2019_\n",
    "\n",
    "# Task 1\n",
    "Needed packages:"
   ]
  },
  {
   "cell_type": "code",
   "execution_count": null,
   "metadata": {
    "eval": false,
    "tags": [
     "remove_cell"
    ]
   },
   "outputs": [],
   "source": [
    "installed.packages(\"data.table\")"
   ]
  },
  {
   "cell_type": "code",
   "execution_count": null,
   "metadata": {
    "echo": true,
    "message": false,
    "tags": [
     "remove_output"
    ],
    "warning": false
   },
   "outputs": [],
   "source": [
    "library(data.table)"
   ]
  },
  {
   "cell_type": "markdown",
   "metadata": {
    "lines_to_next_cell": 0
   },
   "source": [
    "## Subtask 1"
   ]
  },
  {
   "cell_type": "code",
   "execution_count": null,
   "metadata": {},
   "outputs": [],
   "source": [
    "# Read frome the snapshot, select only columns we're interested in.\n",
    "matches <- fread(paste0(getwd(), \"/data/matches.csv\"), select=c(\"match_id\", \"match_hometeam_name\", \"match_awayteam_name\", \"league_id\",\"match_status\",\"match_hometeam_score\", \"match_awayteam_score\"))\n",
    "# get only finished english premier league matches\n",
    "finished_epl_matches <- matches[league_id == 148 & match_status == \"Finished\"]\n",
    "finished_epl_matches"
   ]
  },
  {
   "cell_type": "markdown",
   "metadata": {
    "lines_to_next_cell": 0
   },
   "source": [
    "# Task 2"
   ]
  },
  {
   "cell_type": "code",
   "execution_count": null,
   "metadata": {},
   "outputs": [],
   "source": [
    "# read bets csv\n",
    "bets <- fread(paste0(getwd(), \"/data/bets.csv\"))\n",
    "# add column to indicate if match ended as draw\n",
    "# get only bets data with win, draw or lose.\n",
    "bets <- bets[variable %in% c(\"odd_1\", \"odd_x\", \"odd_2\" )]\n",
    "# join bets and match data by match_id\n",
    "merged_data <- merge(finished_epl_matches, bets, by='match_id')\n",
    "# find the most active bookmaker\n",
    "bookmaker_data_count <- bets[, .N, by = c(\"odd_bookmakers\")]\n",
    "bookmaker_data_count <- bookmaker_data_count[order(-N)]\n",
    "# select the first 4 bookmaker name that has most bets\n",
    "bookmaker_names <- bookmaker_data_count[1:4]$odd_bookmakers\n",
    "bookmaker_data_count\n",
    "bookmaker_names"
   ]
  },
  {
   "cell_type": "markdown",
   "metadata": {
    "lines_to_next_cell": 0
   },
   "source": [
    "### Custom functions:"
   ]
  },
  {
   "cell_type": "code",
   "execution_count": null,
   "metadata": {},
   "outputs": [],
   "source": [
    "# Use this function to analyze for different bookmakers.\n",
    "bookmaker_draw_analysis <- function(bookmaker_name, data) {\n",
    "  # get the data with selected bookmaker\n",
    "  if(bookmaker_name == TRUE){\n",
    "    bookmaker_bets <- data\n",
    "  }\n",
    "  else{\n",
    "    bookmaker_bets <- data[odd_bookmakers == bookmaker_name]\n",
    "  }\n",
    "  # find probabilities from given odds\n",
    "  bookmaker_bets <- bookmaker_bets[, c(\"p_win\", \"p_draw\", \"p_lose\") := list(1/value[variable == 'odd_1'], 1/value[variable == 'odd_x'], 1/value[variable == 'odd_2']), by = list(match_id, odd_bookmakers, variable)]\n",
    "  # group data by match_id and odd_bookmakers, so that we can have only one row for each match and bookmaker\n",
    "  bookmaker_bets <- aggregate(bookmaker_bets[,c(\"p_win\",\"p_draw\",\"p_lose\")], by=list(bookmaker_bets$match_id, bookmaker_bets$odd_bookmakers), FUN = function (x) first(na.omit(x)))\n",
    "  # convert it back to data table\n",
    "  bookmaker_bets <- data.table(bookmaker_bets)\n",
    "  # rename grouped columns\n",
    "  names(bookmaker_bets)[1] <- \"match_id\"\n",
    "  names(bookmaker_bets)[2] <- \"odd_bookmakers\"\n",
    "  # TASK 2.2\n",
    "  # convert probabilities by implied probability function for each probability type\n",
    "  bookmaker_bets[, p_win_imp:=p_win / (p_win + p_draw + p_lose)]\n",
    "  bookmaker_bets[, p_draw_imp:=p_draw / (p_win + p_draw + p_lose)]\n",
    "  bookmaker_bets[, p_lose_imp:=p_lose / (p_win + p_draw + p_lose)]\n",
    "}\n",
    "\n",
    "first_past_excluded <- bookmaker_draw_analysis(TRUE, merged_data)\n",
    "bookmaker_names\n",
    "first_past_excluded"
   ]
  },
  {
   "cell_type": "code",
   "execution_count": null,
   "metadata": {
    "lines_to_next_cell": 0
   },
   "outputs": [],
   "source": [
    "unplayed_epl_matches <- matches[league_id == 148 & is.na(match_status)]\n",
    "unplayed_epl_matches <- unplayed_epl_matches[,-c(\"match_status\", \"match_hometeam_score\", \"match_awayteam_score\", \"league_id\")]\n",
    "unplayed_merged_data <- merge(unplayed_epl_matches, bets, by='match_id')\n",
    "first_unplayed_predictions <- bookmaker_draw_analysis(TRUE, unplayed_merged_data)\n",
    "first_unplayed_predictions <-  merge(unplayed_epl_matches, first_unplayed_predictions, by='match_id')\n",
    "first_unplayed_predictions"
   ]
  },
  {
   "cell_type": "code",
   "execution_count": null,
   "metadata": {},
   "outputs": [],
   "source": [
    "average_cols = c(\"p_win\",\"p_draw\",\"p_lose\",\"p_win_imp\",\"p_draw_imp\",\"p_lose_imp\")\n",
    "average_predictions = first_unplayed_predictions[, lapply(.SD, mean), .SDcols = average_cols, by=match_id]\n",
    "average_predictions = merge(unplayed_epl_matches, average_predictions, by='match_id')\n",
    "average_predictions"
   ]
  }
 ],
 "metadata": {
  "jupytext": {
   "cell_metadata_filter": "tags,echo,warning,eval,message,-all",
   "main_language": "R",
   "notebook_metadata_filter": "-all"
  }
 },
 "nbformat": 4,
 "nbformat_minor": 2
}
